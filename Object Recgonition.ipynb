{
 "cells": [
  {
   "cell_type": "code",
   "execution_count": 51,
   "id": "cca1016f",
   "metadata": {},
   "outputs": [],
   "source": [
    "import boto3\n",
    "import csv\n",
    "import pprint\n",
    "from PIL import Image,ImageDraw,ImageFont\n",
    "import io"
   ]
  },
  {
   "cell_type": "code",
   "execution_count": 52,
   "id": "2d0abc87",
   "metadata": {},
   "outputs": [],
   "source": [
    "# Get Access Key and Secret Access Key from the csv file\n",
    "with open('Credentials.csv','r') as file:\n",
    "    next(file)\n",
    "    reader = csv.reader(file)\n",
    "    \n",
    "    for line in reader:\n",
    "        access_key = line[0]\n",
    "        secret_access_key = line[1]\n"
   ]
  },
  {
   "cell_type": "code",
   "execution_count": 53,
   "id": "f405272e",
   "metadata": {},
   "outputs": [],
   "source": [
    "#connect to aws Rekognition \n",
    "client = boto3.client('rekognition',region_name = 'us-west-2',\n",
    "                      aws_access_key_id = access_key,aws_secret_access_key = secret_access_key)\n",
    "photo = 'Remy.jpg'\n",
    "with open(photo,'rb') as image:\n",
    "    source_bytes = image.read()\n",
    "    "
   ]
  },
  {
   "cell_type": "code",
   "execution_count": 54,
   "id": "36e8915a",
   "metadata": {
    "collapsed": true
   },
   "outputs": [
    {
     "name": "stdout",
     "output_type": "stream",
     "text": [
      "Clothing  :  99.95193481445312\n",
      "Footwear  :  99.95193481445312\n",
      "Shoe  :  99.95193481445312\n",
      "High Heel  :  99.76722717285156\n",
      "Accessories  :  92.88558959960938\n",
      "Bag  :  92.88558959960938\n",
      "Handbag  :  92.88558959960938\n",
      "Pants  :  91.65628814697266\n",
      "Female  :  88.05077362060547\n",
      "Girl  :  88.05077362060547\n",
      "Person  :  88.05077362060547\n",
      "Teen  :  88.05077362060547\n",
      "Face  :  72.96892547607422\n",
      "Head  :  72.96892547607422\n",
      "Indoors  :  61.004119873046875\n",
      "Sleeve  :  56.87743377685547\n",
      "Hat  :  56.67892074584961\n",
      "Jeans  :  56.16438293457031\n",
      "Sitting  :  55.96160888671875\n",
      "Sandal  :  55.91607666015625\n"
     ]
    }
   ],
   "source": [
    "# detect labes gets all possible detection the model found with confiddence\n",
    "detect_objects = client.detect_labels(Image = {'Bytes': source_bytes}) \n",
    "\n",
    "# make variable to draw in the image\n",
    "image = Image.open(io.BytesIO(source_bytes))\n",
    "draw= ImageDraw.Draw(image)\n",
    "\n",
    "for label in detect_objects['Labels']:\n",
    "    print(label['Name'],\" : \",label['Confidence'])\n",
    "    for instance in label['Instances']:\n",
    "        # get the bounding box co-ordinates to draw rectangle around the detected object\n",
    "        if 'BoundingBox' in instance:\n",
    "            box = instance['BoundingBox']\n",
    "            \n",
    "            left = image.width * box['Left']\n",
    "            top = image.height * box['Top']\n",
    "            width = image.width * box['Width']\n",
    "            height = image.height * box['Height']\n",
    "            \n",
    "            points = (\n",
    "                        (left,top),\n",
    "                        (left + width, top),\n",
    "                        (left + width, top + height),\n",
    "                        (left , top + height),\n",
    "                        (left, top)\n",
    "                    )\n",
    "            draw.line(points,width = 5)\n",
    "            shape = [(left - 2, top - 35), (width + 2 + left, top)]\n",
    "            draw.rectangle(shape)\n",
    "            font = ImageFont.truetype(\"arial.ttf\", 30)\n",
    "\n",
    "            draw.text((left , top - 30), label[\"Name\"], font=font, fill='#000000')\n",
    "image.show()\n"
   ]
  }
 ],
 "metadata": {
  "kernelspec": {
   "display_name": "Python 3",
   "language": "python",
   "name": "python3"
  },
  "language_info": {
   "codemirror_mode": {
    "name": "ipython",
    "version": 3
   },
   "file_extension": ".py",
   "mimetype": "text/x-python",
   "name": "python",
   "nbconvert_exporter": "python",
   "pygments_lexer": "ipython3",
   "version": "3.8.8"
  }
 },
 "nbformat": 4,
 "nbformat_minor": 5
}
